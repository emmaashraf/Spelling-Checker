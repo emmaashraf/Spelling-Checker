{
 "cells": [
  {
   "cell_type": "code",
   "execution_count": 10,
   "id": "4fd9e303",
   "metadata": {},
   "outputs": [],
   "source": [
    "import os\n",
    "import bisect\n"
   ]
  },
  {
   "cell_type": "code",
   "execution_count": 11,
   "id": "47fd2bca",
   "metadata": {},
   "outputs": [],
   "source": [
    "file_path = \"C:\\\\Users\\\\YourUsername\\\\Downloads\\\\dictionary.txt\"\n"
   ]
  },
  {
   "cell_type": "code",
   "execution_count": 12,
   "id": "6faac454",
   "metadata": {},
   "outputs": [],
   "source": [
    "current_directory = os.getcwd()\n",
    "file_path = os.path.join(current_directory, \"dictionary.txt\")\n"
   ]
  },
  {
   "cell_type": "code",
   "execution_count": 15,
   "id": "22db70ad",
   "metadata": {},
   "outputs": [],
   "source": [
    "class SpellChecker:\n",
    "    def __init__(self):\n",
    "        self.dictionary = set()\n",
    "        self.sorted_dict = []\n",
    "\n",
    "    def load_dictionary(self, file_path):\n",
    "        with open(file_path, 'r', encoding='cp1256') as file:\n",
    "            for word in file:\n",
    "                self.dictionary.add(word.strip())\n",
    "\n",
    "            # Sort the dictionary for efficient nearest word lookup\n",
    "            self.sorted_dict = sorted(list(self.dictionary))\n",
    "\n",
    "    def is_word_in_dictionary(self, word):\n",
    "        return word in self.dictionary\n",
    "\n",
    "    def get_nearest_words(self, word):\n",
    "        if self.is_word_in_dictionary(word):\n",
    "            return []\n",
    "\n",
    "        index = bisect.bisect_left(self.sorted_dict, word)\n",
    "        nearest_words = self.sorted_dict[index-2:index] + self.sorted_dict[index:index+2]\n",
    "        return nearest_words\n",
    "\n",
    "    def add_word_to_dictionary(self, word):\n",
    "        self.dictionary.add(word)\n",
    "        self.sorted_dict = sorted(list(self.dictionary))\n"
   ]
  },
  {
   "cell_type": "code",
   "execution_count": 16,
   "id": "3125d044",
   "metadata": {},
   "outputs": [
    {
     "name": "stdout",
     "output_type": "stream",
     "text": [
      "'example' is in the dictionary.\n",
      "'newword' has been added to the dictionary.\n"
     ]
    }
   ],
   "source": [
    "if __name__ == \"__main__\":\n",
    "    # الحصول على المسار الحالي لمجلد البرنامج\n",
    "    current_directory = os.getcwd()\n",
    "\n",
    "    # دمج المسار مع اسم الملف \"dictionary.txt\"\n",
    "    file_path = os.path.join(current_directory, \"dictionary.txt\")\n",
    "\n",
    "    spell_checker = SpellChecker()\n",
    "    spell_checker.load_dictionary(file_path)\n",
    "\n",
    "    word_to_check = \"example\"\n",
    "    if spell_checker.is_word_in_dictionary(word_to_check):\n",
    "        print(f\"'{word_to_check}' is in the dictionary.\")\n",
    "    else:\n",
    "        nearest_words = spell_checker.get_nearest_words(word_to_check)\n",
    "        print(f\"'{word_to_check}' is not in the dictionary. Nearest words are: {nearest_words}\")\n",
    "\n",
    "    new_word = \"newword\"\n",
    "    spell_checker.add_word_to_dictionary(new_word)\n",
    "    print(f\"'{new_word}' has been added to the dictionary.\")\n"
   ]
  },
  {
   "cell_type": "code",
   "execution_count": null,
   "id": "09db4235",
   "metadata": {},
   "outputs": [],
   "source": []
  },
  {
   "cell_type": "code",
   "execution_count": null,
   "id": "70ef17a8",
   "metadata": {},
   "outputs": [],
   "source": []
  },
  {
   "cell_type": "code",
   "execution_count": null,
   "id": "18b8f763",
   "metadata": {},
   "outputs": [],
   "source": []
  }
 ],
 "metadata": {
  "kernelspec": {
   "display_name": "Python 3 (ipykernel)",
   "language": "python",
   "name": "python3"
  },
  "language_info": {
   "codemirror_mode": {
    "name": "ipython",
    "version": 3
   },
   "file_extension": ".py",
   "mimetype": "text/x-python",
   "name": "python",
   "nbconvert_exporter": "python",
   "pygments_lexer": "ipython3",
   "version": "3.9.13"
  }
 },
 "nbformat": 4,
 "nbformat_minor": 5
}
